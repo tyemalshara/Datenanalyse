{
 "cells": [
  {
   "cell_type": "markdown",
   "id": "476df76f",
   "metadata": {},
   "source": [
    "# Motivation\n",
    "Dieser Seminararbeit basiert auf einem Datensatz von Kaggle mit über 9800 hochrangigen Spielen von dem berümten Spiel League of Legends.\n",
    "Wenn Sie jemals League of Legends gespielt haben, wissen Sie, wie sich viele Spiele wie ein Münzwurf anfühlen, aber in den meisten Fällen können Sie tatsächlich etwas dagegen tun und gewinnen! In dieser Arbeit wrid eine explorative Datenanalyse dieses Datensatzes durchgeführt um, zu sehen, wie Sie (statistisch) mehr Spiele gewinnen können!.\n",
    "Die Features in diesem Datensatz werden während jedes Spiels nach 10 Minuten abgefragt."
   ]
  },
  {
   "cell_type": "markdown",
   "id": "cef5c169",
   "metadata": {},
   "source": [
    "# Daten- vorverarbeitung/präprozessieren\n",
    "Wir wählen die Features aus, die das Ergebnis des Spiels am meisten beeinflussen."
   ]
  },
  {
   "cell_type": "code",
   "execution_count": 1,
   "id": "429ebefe",
   "metadata": {},
   "outputs": [],
   "source": [
    "best_features_list = ['blueWins','blueGoldDiff','blueExperienceDiff','blueAvgLevel','redAvgLevel',\n",
    "                      'redKills','blueKills','blueAssists','redAssists','blueCSPerMin','redCSPerMin',\n",
    "                      'blueFirstBlood','redFirstBlood','blueEliteMonsters','redEliteMonsters',\n",
    "                      'blueDragons','redDragons']"
   ]
  },
  {
   "cell_type": "markdown",
   "id": "c6eb87f4",
   "metadata": {},
   "source": [
    "# Explorative Datenanalyse (EDA)\n",
    "Nun wird die Korrelationen des Features mit der unabhängigen Variablen mithilfe der .corr()-Methode von Pandas ermitteln."
   ]
  },
  {
   "cell_type": "markdown",
   "id": "f532c48f",
   "metadata": {},
   "source": [
    "Wichtige Bibleotheken zum Laden- und Visualisierungszwecke werden importiert."
   ]
  },
  {
   "cell_type": "code",
   "execution_count": 2,
   "id": "6f277a21",
   "metadata": {},
   "outputs": [],
   "source": [
    "import pandas as pd\n",
    "import numpy as np\n",
    "import matplotlib.pyplot as plt"
   ]
  },
  {
   "cell_type": "markdown",
   "id": "ec3b9e3d",
   "metadata": {},
   "source": [
    "Einladen des Pfades aus dem lokalem Ordner"
   ]
  },
  {
   "cell_type": "code",
   "execution_count": 3,
   "id": "d7d7a25f",
   "metadata": {},
   "outputs": [],
   "source": [
    "df = pd.read_csv(r'C:\\Users\\Administrator\\Documents\\Datenanalyse\\archive\\high_diamond_ranked_10min.csv')"
   ]
  },
  {
   "cell_type": "markdown",
   "id": "60769ce1",
   "metadata": {},
   "source": [
    "Ausgeben das eingeladene Datensatz, um zu sehen wie es aussieht."
   ]
  },
  {
   "cell_type": "code",
   "execution_count": 4,
   "id": "e1fd5243",
   "metadata": {},
   "outputs": [
    {
     "data": {
      "text/html": [
       "<div>\n",
       "<style scoped>\n",
       "    .dataframe tbody tr th:only-of-type {\n",
       "        vertical-align: middle;\n",
       "    }\n",
       "\n",
       "    .dataframe tbody tr th {\n",
       "        vertical-align: top;\n",
       "    }\n",
       "\n",
       "    .dataframe thead th {\n",
       "        text-align: right;\n",
       "    }\n",
       "</style>\n",
       "<table border=\"1\" class=\"dataframe\">\n",
       "  <thead>\n",
       "    <tr style=\"text-align: right;\">\n",
       "      <th></th>\n",
       "      <th>gameId</th>\n",
       "      <th>blueWins</th>\n",
       "      <th>blueWardsPlaced</th>\n",
       "      <th>blueWardsDestroyed</th>\n",
       "      <th>blueFirstBlood</th>\n",
       "      <th>blueKills</th>\n",
       "      <th>blueDeaths</th>\n",
       "      <th>blueAssists</th>\n",
       "      <th>blueEliteMonsters</th>\n",
       "      <th>blueDragons</th>\n",
       "      <th>...</th>\n",
       "      <th>redTowersDestroyed</th>\n",
       "      <th>redTotalGold</th>\n",
       "      <th>redAvgLevel</th>\n",
       "      <th>redTotalExperience</th>\n",
       "      <th>redTotalMinionsKilled</th>\n",
       "      <th>redTotalJungleMinionsKilled</th>\n",
       "      <th>redGoldDiff</th>\n",
       "      <th>redExperienceDiff</th>\n",
       "      <th>redCSPerMin</th>\n",
       "      <th>redGoldPerMin</th>\n",
       "    </tr>\n",
       "  </thead>\n",
       "  <tbody>\n",
       "    <tr>\n",
       "      <th>0</th>\n",
       "      <td>4519157822</td>\n",
       "      <td>0</td>\n",
       "      <td>28</td>\n",
       "      <td>2</td>\n",
       "      <td>1</td>\n",
       "      <td>9</td>\n",
       "      <td>6</td>\n",
       "      <td>11</td>\n",
       "      <td>0</td>\n",
       "      <td>0</td>\n",
       "      <td>...</td>\n",
       "      <td>0</td>\n",
       "      <td>16567</td>\n",
       "      <td>6.8</td>\n",
       "      <td>17047</td>\n",
       "      <td>197</td>\n",
       "      <td>55</td>\n",
       "      <td>-643</td>\n",
       "      <td>8</td>\n",
       "      <td>19.7</td>\n",
       "      <td>1656.7</td>\n",
       "    </tr>\n",
       "    <tr>\n",
       "      <th>1</th>\n",
       "      <td>4523371949</td>\n",
       "      <td>0</td>\n",
       "      <td>12</td>\n",
       "      <td>1</td>\n",
       "      <td>0</td>\n",
       "      <td>5</td>\n",
       "      <td>5</td>\n",
       "      <td>5</td>\n",
       "      <td>0</td>\n",
       "      <td>0</td>\n",
       "      <td>...</td>\n",
       "      <td>1</td>\n",
       "      <td>17620</td>\n",
       "      <td>6.8</td>\n",
       "      <td>17438</td>\n",
       "      <td>240</td>\n",
       "      <td>52</td>\n",
       "      <td>2908</td>\n",
       "      <td>1173</td>\n",
       "      <td>24.0</td>\n",
       "      <td>1762.0</td>\n",
       "    </tr>\n",
       "    <tr>\n",
       "      <th>2</th>\n",
       "      <td>4521474530</td>\n",
       "      <td>0</td>\n",
       "      <td>15</td>\n",
       "      <td>0</td>\n",
       "      <td>0</td>\n",
       "      <td>7</td>\n",
       "      <td>11</td>\n",
       "      <td>4</td>\n",
       "      <td>1</td>\n",
       "      <td>1</td>\n",
       "      <td>...</td>\n",
       "      <td>0</td>\n",
       "      <td>17285</td>\n",
       "      <td>6.8</td>\n",
       "      <td>17254</td>\n",
       "      <td>203</td>\n",
       "      <td>28</td>\n",
       "      <td>1172</td>\n",
       "      <td>1033</td>\n",
       "      <td>20.3</td>\n",
       "      <td>1728.5</td>\n",
       "    </tr>\n",
       "    <tr>\n",
       "      <th>3</th>\n",
       "      <td>4524384067</td>\n",
       "      <td>0</td>\n",
       "      <td>43</td>\n",
       "      <td>1</td>\n",
       "      <td>0</td>\n",
       "      <td>4</td>\n",
       "      <td>5</td>\n",
       "      <td>5</td>\n",
       "      <td>1</td>\n",
       "      <td>0</td>\n",
       "      <td>...</td>\n",
       "      <td>0</td>\n",
       "      <td>16478</td>\n",
       "      <td>7.0</td>\n",
       "      <td>17961</td>\n",
       "      <td>235</td>\n",
       "      <td>47</td>\n",
       "      <td>1321</td>\n",
       "      <td>7</td>\n",
       "      <td>23.5</td>\n",
       "      <td>1647.8</td>\n",
       "    </tr>\n",
       "    <tr>\n",
       "      <th>4</th>\n",
       "      <td>4436033771</td>\n",
       "      <td>0</td>\n",
       "      <td>75</td>\n",
       "      <td>4</td>\n",
       "      <td>0</td>\n",
       "      <td>6</td>\n",
       "      <td>6</td>\n",
       "      <td>6</td>\n",
       "      <td>0</td>\n",
       "      <td>0</td>\n",
       "      <td>...</td>\n",
       "      <td>0</td>\n",
       "      <td>17404</td>\n",
       "      <td>7.0</td>\n",
       "      <td>18313</td>\n",
       "      <td>225</td>\n",
       "      <td>67</td>\n",
       "      <td>1004</td>\n",
       "      <td>-230</td>\n",
       "      <td>22.5</td>\n",
       "      <td>1740.4</td>\n",
       "    </tr>\n",
       "    <tr>\n",
       "      <th>...</th>\n",
       "      <td>...</td>\n",
       "      <td>...</td>\n",
       "      <td>...</td>\n",
       "      <td>...</td>\n",
       "      <td>...</td>\n",
       "      <td>...</td>\n",
       "      <td>...</td>\n",
       "      <td>...</td>\n",
       "      <td>...</td>\n",
       "      <td>...</td>\n",
       "      <td>...</td>\n",
       "      <td>...</td>\n",
       "      <td>...</td>\n",
       "      <td>...</td>\n",
       "      <td>...</td>\n",
       "      <td>...</td>\n",
       "      <td>...</td>\n",
       "      <td>...</td>\n",
       "      <td>...</td>\n",
       "      <td>...</td>\n",
       "      <td>...</td>\n",
       "    </tr>\n",
       "    <tr>\n",
       "      <th>9874</th>\n",
       "      <td>4527873286</td>\n",
       "      <td>1</td>\n",
       "      <td>17</td>\n",
       "      <td>2</td>\n",
       "      <td>1</td>\n",
       "      <td>7</td>\n",
       "      <td>4</td>\n",
       "      <td>5</td>\n",
       "      <td>1</td>\n",
       "      <td>1</td>\n",
       "      <td>...</td>\n",
       "      <td>0</td>\n",
       "      <td>15246</td>\n",
       "      <td>6.8</td>\n",
       "      <td>16498</td>\n",
       "      <td>229</td>\n",
       "      <td>34</td>\n",
       "      <td>-2519</td>\n",
       "      <td>-2469</td>\n",
       "      <td>22.9</td>\n",
       "      <td>1524.6</td>\n",
       "    </tr>\n",
       "    <tr>\n",
       "      <th>9875</th>\n",
       "      <td>4527797466</td>\n",
       "      <td>1</td>\n",
       "      <td>54</td>\n",
       "      <td>0</td>\n",
       "      <td>0</td>\n",
       "      <td>6</td>\n",
       "      <td>4</td>\n",
       "      <td>8</td>\n",
       "      <td>1</td>\n",
       "      <td>1</td>\n",
       "      <td>...</td>\n",
       "      <td>0</td>\n",
       "      <td>15456</td>\n",
       "      <td>7.0</td>\n",
       "      <td>18367</td>\n",
       "      <td>206</td>\n",
       "      <td>56</td>\n",
       "      <td>-782</td>\n",
       "      <td>-888</td>\n",
       "      <td>20.6</td>\n",
       "      <td>1545.6</td>\n",
       "    </tr>\n",
       "    <tr>\n",
       "      <th>9876</th>\n",
       "      <td>4527713716</td>\n",
       "      <td>0</td>\n",
       "      <td>23</td>\n",
       "      <td>1</td>\n",
       "      <td>0</td>\n",
       "      <td>6</td>\n",
       "      <td>7</td>\n",
       "      <td>5</td>\n",
       "      <td>0</td>\n",
       "      <td>0</td>\n",
       "      <td>...</td>\n",
       "      <td>0</td>\n",
       "      <td>18319</td>\n",
       "      <td>7.4</td>\n",
       "      <td>19909</td>\n",
       "      <td>261</td>\n",
       "      <td>60</td>\n",
       "      <td>2416</td>\n",
       "      <td>1877</td>\n",
       "      <td>26.1</td>\n",
       "      <td>1831.9</td>\n",
       "    </tr>\n",
       "    <tr>\n",
       "      <th>9877</th>\n",
       "      <td>4527628313</td>\n",
       "      <td>0</td>\n",
       "      <td>14</td>\n",
       "      <td>4</td>\n",
       "      <td>1</td>\n",
       "      <td>2</td>\n",
       "      <td>3</td>\n",
       "      <td>3</td>\n",
       "      <td>1</td>\n",
       "      <td>1</td>\n",
       "      <td>...</td>\n",
       "      <td>0</td>\n",
       "      <td>15298</td>\n",
       "      <td>7.2</td>\n",
       "      <td>18314</td>\n",
       "      <td>247</td>\n",
       "      <td>40</td>\n",
       "      <td>839</td>\n",
       "      <td>1085</td>\n",
       "      <td>24.7</td>\n",
       "      <td>1529.8</td>\n",
       "    </tr>\n",
       "    <tr>\n",
       "      <th>9878</th>\n",
       "      <td>4523772935</td>\n",
       "      <td>1</td>\n",
       "      <td>18</td>\n",
       "      <td>0</td>\n",
       "      <td>1</td>\n",
       "      <td>6</td>\n",
       "      <td>6</td>\n",
       "      <td>5</td>\n",
       "      <td>0</td>\n",
       "      <td>0</td>\n",
       "      <td>...</td>\n",
       "      <td>0</td>\n",
       "      <td>15339</td>\n",
       "      <td>6.8</td>\n",
       "      <td>17379</td>\n",
       "      <td>201</td>\n",
       "      <td>46</td>\n",
       "      <td>-927</td>\n",
       "      <td>58</td>\n",
       "      <td>20.1</td>\n",
       "      <td>1533.9</td>\n",
       "    </tr>\n",
       "  </tbody>\n",
       "</table>\n",
       "<p>9879 rows × 40 columns</p>\n",
       "</div>"
      ],
      "text/plain": [
       "          gameId  blueWins  blueWardsPlaced  blueWardsDestroyed  \\\n",
       "0     4519157822         0               28                   2   \n",
       "1     4523371949         0               12                   1   \n",
       "2     4521474530         0               15                   0   \n",
       "3     4524384067         0               43                   1   \n",
       "4     4436033771         0               75                   4   \n",
       "...          ...       ...              ...                 ...   \n",
       "9874  4527873286         1               17                   2   \n",
       "9875  4527797466         1               54                   0   \n",
       "9876  4527713716         0               23                   1   \n",
       "9877  4527628313         0               14                   4   \n",
       "9878  4523772935         1               18                   0   \n",
       "\n",
       "      blueFirstBlood  blueKills  blueDeaths  blueAssists  blueEliteMonsters  \\\n",
       "0                  1          9           6           11                  0   \n",
       "1                  0          5           5            5                  0   \n",
       "2                  0          7          11            4                  1   \n",
       "3                  0          4           5            5                  1   \n",
       "4                  0          6           6            6                  0   \n",
       "...              ...        ...         ...          ...                ...   \n",
       "9874               1          7           4            5                  1   \n",
       "9875               0          6           4            8                  1   \n",
       "9876               0          6           7            5                  0   \n",
       "9877               1          2           3            3                  1   \n",
       "9878               1          6           6            5                  0   \n",
       "\n",
       "      blueDragons  ...  redTowersDestroyed  redTotalGold  redAvgLevel  \\\n",
       "0               0  ...                   0         16567          6.8   \n",
       "1               0  ...                   1         17620          6.8   \n",
       "2               1  ...                   0         17285          6.8   \n",
       "3               0  ...                   0         16478          7.0   \n",
       "4               0  ...                   0         17404          7.0   \n",
       "...           ...  ...                 ...           ...          ...   \n",
       "9874            1  ...                   0         15246          6.8   \n",
       "9875            1  ...                   0         15456          7.0   \n",
       "9876            0  ...                   0         18319          7.4   \n",
       "9877            1  ...                   0         15298          7.2   \n",
       "9878            0  ...                   0         15339          6.8   \n",
       "\n",
       "      redTotalExperience  redTotalMinionsKilled  redTotalJungleMinionsKilled  \\\n",
       "0                  17047                    197                           55   \n",
       "1                  17438                    240                           52   \n",
       "2                  17254                    203                           28   \n",
       "3                  17961                    235                           47   \n",
       "4                  18313                    225                           67   \n",
       "...                  ...                    ...                          ...   \n",
       "9874               16498                    229                           34   \n",
       "9875               18367                    206                           56   \n",
       "9876               19909                    261                           60   \n",
       "9877               18314                    247                           40   \n",
       "9878               17379                    201                           46   \n",
       "\n",
       "      redGoldDiff  redExperienceDiff  redCSPerMin  redGoldPerMin  \n",
       "0            -643                  8         19.7         1656.7  \n",
       "1            2908               1173         24.0         1762.0  \n",
       "2            1172               1033         20.3         1728.5  \n",
       "3            1321                  7         23.5         1647.8  \n",
       "4            1004               -230         22.5         1740.4  \n",
       "...           ...                ...          ...            ...  \n",
       "9874        -2519              -2469         22.9         1524.6  \n",
       "9875         -782               -888         20.6         1545.6  \n",
       "9876         2416               1877         26.1         1831.9  \n",
       "9877          839               1085         24.7         1529.8  \n",
       "9878         -927                 58         20.1         1533.9  \n",
       "\n",
       "[9879 rows x 40 columns]"
      ]
     },
     "execution_count": 4,
     "metadata": {},
     "output_type": "execute_result"
    }
   ],
   "source": [
    "df"
   ]
  },
  {
   "cell_type": "markdown",
   "id": "be1f1f8f",
   "metadata": {},
   "source": [
    "Mit der info() Methode können detailiertere Infos über das Datensatz bekommen werden.  "
   ]
  },
  {
   "cell_type": "code",
   "execution_count": null,
   "id": "efece727",
   "metadata": {},
   "outputs": [],
   "source": [
    "df.info()"
   ]
  },
  {
   "cell_type": "code",
   "execution_count": 8,
   "id": "902734ca",
   "metadata": {},
   "outputs": [
    {
     "name": "stdout",
     "output_type": "stream",
     "text": [
      "Positive Correlations:\n",
      "blueGoldDiff          0.511119\n",
      "blueExperienceDiff    0.489558\n",
      "blueAvgLevel          0.357820\n",
      "blueKills             0.337358\n",
      "blueAssists           0.276685\n",
      "Name: blueWins, dtype: float64\n",
      "\n",
      "\n",
      "Negative Correlations:\n",
      "redAvgLevel        -0.352127\n",
      "redKills           -0.339297\n",
      "redAssists         -0.271047\n",
      "redEliteMonsters   -0.221551\n",
      "redCSPerMin        -0.212171\n",
      "Name: blueWins, dtype: float64\n"
     ]
    },
    {
     "data": {
      "image/png": "[encoded data removed]",
      "text/plain": [
       "<Figure size 432x288 with 1 Axes>"
      ]
     },
     "metadata": {
      "needs_background": "light"
     },
     "output_type": "display_data"
    }
   ],
   "source": [
    "new_df = df[best_features_list]\n",
    "corr = new_df.corr()\n",
    "print('Positive Correlations:')\n",
    "print(corr.loc['blueWins'].sort_values(ascending=False)[1:6])\n",
    "\n",
    "x = corr.loc['blueWins'].sort_values(ascending=False)[1:6]\n",
    "x = x[:].tolist()\n",
    "print('\\n')\n",
    "print('Negative Correlations:')\n",
    "print(corr.loc['blueWins'].sort_values(ascending=True)[:5])\n",
    "y = corr.loc['blueWins'].sort_values(ascending=True)[:5]\n",
    "y = y[:].tolist()\n",
    "for i in y:\n",
    "    x.append(i)\n",
    "\n",
    "x = np.array(x)\n",
    "y = np.array(['blueGoldDiff', 'blueExperienceDiff', 'blueAvgLevel', 'blueKills','blueAssists',\n",
    "              'redAvgLevel', 'redKills', 'redAssists', 'redEliteMonsters', 'redCSPerMin'])\n",
    "plt.barh(y, x)\n",
    "plt.show()"
   ]
  },
  {
   "cell_type": "markdown",
   "id": "49f750aa",
   "metadata": {},
   "source": [
    "Wie aus der Ausgabe zu sehen ist, zeigen die positiven Korrelationen die Merkmale, die beim Gewinnen des Spiels am wichtigsten sind (wobei blueWins = 1), und die negativen Korrelationen zeigen die Merkmale, die beim Verlieren des Spiels am wichtigsten sind (wobei blueWins = 0). Das Balkendiagramm zeigt die vorherigen Informationen aufgeräumter an.\n",
    "Nach dem Anzeigen des Korrelationen, wird ein Blick auf bestimmte Merkmale geworfen, um zu sehen, wie sie sich auf das Ergebnis des Spiels auswirken."
   ]
  },
  {
   "cell_type": "markdown",
   "id": "b3ad77a6",
   "metadata": {},
   "source": [
    "# Prozentsatz der Spiele, bei denen das blaue Team mit negativer/positiver Golddifferenz gewinnt"
   ]
  },
  {
   "cell_type": "markdown",
   "id": "080260d0",
   "metadata": {},
   "source": [
    "das erste Merkmal ist das wichtigste, weil es die höchste Korrelation aufweist, und es ist das 'blueGoldDiff', welche die Golddifferenz zwischen den beiden Teams beschreibt. Es ist das Ergebnis des gesamten Goldes des blauen Teams minus des gesamten Goldes des roten Teams."
   ]
  },
  {
   "cell_type": "code",
   "execution_count": 9,
   "id": "f50b2393",
   "metadata": {},
   "outputs": [],
   "source": [
    "AnzBlueTeamWins = sum(df['blueWins'] == 1) # Anzahl Siege des blauen Teams\n",
    "P_blueGoldDiff = sum((df['blueGoldDiff'] > 0) & (df['blueWins'] == 1))  # Positiv blauGoldDiff\n",
    "Pro_P_Wins = sum((df['blueGoldDiff'] > 0) & (df['blueWins'] == 1))/AnzBlueTeamWins  # Prozentsatz der Spiele, bei denen das blaue Team mit einer positiven Golddifferenz gewinnt\n",
    "N_blueGoldDiff = sum((df['blueGoldDiff'] < 0) & (df['blueWins'] == 1))  # Negativ blueGoldDiff\n",
    "Pro_N_Wins = sum((df['blueGoldDiff'] < 0) & (df['blueWins'] == 1))/AnzBlueTeamWins  # Prozentsatz der Spiele, bei denen das blaue Team mit einer negativen Golddifferenz gewinnt"
   ]
  },
  {
   "cell_type": "code",
   "execution_count": 10,
   "id": "6824a686",
   "metadata": {
    "scrolled": true
   },
   "outputs": [
    {
     "data": {
      "image/png": "[encoded data removed]",
      "text/plain": [
       "<Figure size 432x288 with 1 Axes>"
      ]
     },
     "metadata": {
      "needs_background": "light"
     },
     "output_type": "display_data"
    }
   ],
   "source": [
    "x = np.array([\"Pro_P_Wins\", \"Pro_N_Wins\"])\n",
    "y = np.array([Pro_P_Wins, Pro_N_Wins])\n",
    "\n",
    "plt.bar(x,y, color = [\"#f1565a\", \"#24a8df\"])\n",
    "plt.show()"
   ]
  },
  {
   "cell_type": "markdown",
   "id": "2455143e",
   "metadata": {},
   "source": [
    "Wie dem vorherigen Balkendiagramm entnommen kann, gewann Team Blue etwa 72 % der Spiele, in denen es bis zur 10-Minuten-Marke einen goldenen Vorsprung hatte. Dieser ist ziemlich intuitiv, denn wenn das eigene Team mehr Gold als das gegnerische Team hat, kann es Gegenstände schneller kaufen, mehr Kills erzielen und das Spielende beschleunigen. Das heißt, dass Sie das Spiel in 72 % der Fälle gewonnen wird, wenn das eigene Team bis zur 10-Minuten-Marke einen goldenen Vorsprung hat."
   ]
  },
  {
   "cell_type": "markdown",
   "id": "fb3eac46",
   "metadata": {},
   "source": [
    "# Durchschnittliches Level jedes Teams, wenn das blaue Team gewinnt"
   ]
  },
  {
   "cell_type": "markdown",
   "id": "363e20c3",
   "metadata": {},
   "source": [
    "Dieses nächste Feature zeigt fast keinen Unterschied zwischen beiden Teams, das liegt höchstwahrscheinlich daran, dass diese Daten aus hochrangigen Spielen stammen und Spieler in höheren Rängen wissen, wie man in frühen Levels nicht zurückfällt. Nichtsdestotrotz zeigt es, dass das durchschnittliche Niveau des blauen Teams etwas höher ist als das des roten Teams."
   ]
  },
  {
   "cell_type": "code",
   "execution_count": 19,
   "id": "627a3aa4",
   "metadata": {},
   "outputs": [
    {
     "name": "stdout",
     "output_type": "stream",
     "text": [
      "durchschnitt blue 7.025395537525382\n",
      "durchschnitt red 6.817606490872092\n"
     ]
    },
    {
     "data": {
      "image/png": "[encoded data removed]",
      "text/plain": [
       "<Figure size 432x288 with 1 Axes>"
      ]
     },
     "metadata": {
      "needs_background": "light"
     },
     "output_type": "display_data"
    }
   ],
   "source": [
    "####################### bezüglich blue team ################\n",
    "sub_df_blue = df[(df['blueAvgLevel'] >= 0) & (df['blueWins'] == 1)]\n",
    "sum_of_kills = sum(sub_df_blue.iloc[:]['blueAvgLevel'])\n",
    "number_of_rows = sub_df_blue.shape[0]\n",
    "blueAvgLevel = sum_of_kills/number_of_rows\n",
    "print(\"durchschnitt blue\", blueAvgLevel)\n",
    "######################## bezüglich red Team ####################\n",
    "sub_df_red = df[(df['redAvgLevel'] >= 0) & (df['blueWins'] == 1)]\n",
    "sum_of_kills = sum(sub_df_red.iloc[:]['redAvgLevel'])\n",
    "number_of_rows = sub_df_red.shape[0]\n",
    "redAvgLevel = sum_of_kills/number_of_rows\n",
    "print(\"durchschnitt red\", redAvgLevel)\n",
    "###################### Plotten ###########################\n",
    "x = np.array([\"redAvgLevel\", \"blueAvgLevel\"])\n",
    "y = np.array([redAvgLevel, blueAvgLevel])\n",
    "\n",
    "plt.bar(x,y, color = [\"#f1565a\", \"#24a8df\"])\n",
    "plt.show()"
   ]
  },
  {
   "cell_type": "markdown",
   "id": "d6e6c80c",
   "metadata": {},
   "source": [
    "# Average kills for each Team when Blue Team wins"
   ]
  },
  {
   "cell_type": "markdown",
   "id": "e04ab37d",
   "metadata": {},
   "source": [
    "Das nächste Feature ist 'Team-Kills'. Im Durchschnitt hat das blaue Team nach 10 Minuten und in einem Spiel, in dem das blaue Team gewinnt, 7 Kills, während das rote Team (das gegnerische) 5 hat, wie im nächsten Balkendiagramm zu sehen ist. Dies knüpft an das erste Feature an, das oben bereits analysiert ist, den Goldunterschied, denn wenn ein Spieler aus dem eigenen Team jemanden im gegnerischen Team tötet, erhält das eigene Team Gold als Belohnung."
   ]
  },
  {
   "cell_type": "code",
   "execution_count": 18,
   "id": "b92a12b2",
   "metadata": {},
   "outputs": [
    {
     "name": "stdout",
     "output_type": "stream",
     "text": [
      "durchschnitt blue 7.201622718052739\n",
      "durchschnitt red 5.1403651115618665\n"
     ]
    },
    {
     "data": {
      "image/png": "[encoded data removed]",
      "text/plain": [
       "<Figure size 432x288 with 1 Axes>"
      ]
     },
     "metadata": {
      "needs_background": "light"
     },
     "output_type": "display_data"
    }
   ],
   "source": [
    "####################### bezüglich blue team ################\n",
    "sub_df_blue = df[(df['blueKills'] >= 0) & (df['blueWins'] == 1)]\n",
    "sum_of_kills = sum(sub_df_blue.iloc[:]['blueKills'])\n",
    "number_of_rows = sub_df_blue.shape[0]\n",
    "durchschnitt_BlueTeam = sum_of_kills/number_of_rows\n",
    "print(\"durchschnitt blue\", durchschnitt_BlueTeam)\n",
    "####################### bezüglich red team ################\n",
    "sub_df_red = df[(df['redKills'] >= 0) & (df['blueWins'] == 1)]\n",
    "sum_of_kills = sum(sub_df_red.iloc[:]['redKills'])\n",
    "number_of_rows = sub_df_red.shape[0]\n",
    "durchschnitt_RedTeam = sum_of_kills/number_of_rows\n",
    "print(\"durchschnitt red\", durchschnitt_RedTeam)\n",
    "###################### Plotten ###########################\n",
    "x = np.array([\"durchschnittliche kills RedTeam\", \"durchschnittliche kills BlueTeam\"])\n",
    "y = np.array([durchschnitt_RedTeam, durchschnitt_BlueTeam])\n",
    "plt.bar(x,y, color = [\"#f1565a\", \"#24a8df\"])\n",
    "plt.show()\n"
   ]
  },
  {
   "cell_type": "markdown",
   "id": "c35eb63b",
   "metadata": {},
   "source": [
    "# Average assists for each team when blue Team wins"
   ]
  },
  {
   "cell_type": "markdown",
   "id": "2baabbab",
   "metadata": {},
   "source": [
    "Assists (Deutsch. beteiligung) bedeuten im frühen Spiel (vor der 10-Minuten-Marke) viel, da dies bedeuten kann, dass der 'Jungler' (d.h. Ein Spieler mit bestimmter Rolle im Team) des eigenen Team Lanes (d.h. Kampffront, Kampfplatz) gankt oder andere Lanes umherwandern (d.h. das eigene Kampffront verlassen, um eine anderes Kampffront auf der Spielkarte beizutreten, wenn Unterstützung gefragt ist). Dies ist eine gute Strategie, um Lanes zu sichern und gewinnen."
   ]
  },
  {
   "cell_type": "code",
   "execution_count": 17,
   "id": "3b3b4dca",
   "metadata": {},
   "outputs": [
    {
     "name": "stdout",
     "output_type": "stream",
     "text": [
      "durchschnitt blue 7.771805273833672\n",
      "durchschnitt red 5.559432048681542\n"
     ]
    },
    {
     "data": {
      "image/png": "[encoded data removed]",
      "text/plain": [
       "<Figure size 432x288 with 1 Axes>"
      ]
     },
     "metadata": {
      "needs_background": "light"
     },
     "output_type": "display_data"
    }
   ],
   "source": [
    "####################### bezüglich blue team ################\n",
    "sub_df_blue = df[(df['blueAssists'] >= 0) & (df['blueWins'] == 1)]\n",
    "sum_of_kills = sum(sub_df_blue.iloc[:]['blueAssists'])\n",
    "number_of_rows = sub_df_blue.shape[0]\n",
    "durchschnitt_BlueTeam = sum_of_kills/number_of_rows\n",
    "print(\"durchschnitt blue\", durchschnitt_BlueTeam)\n",
    "####################### bezüglich red team ################\n",
    "sub_df_red = df[(df['redAssists'] >= 0) & (df['blueWins'] == 1)]\n",
    "sum_of_kills = sum(sub_df_red.iloc[:]['redAssists'])\n",
    "number_of_rows = sub_df_red.shape[0]\n",
    "durchschnitt_RedTeam = sum_of_kills/number_of_rows\n",
    "print(\"durchschnitt red\", durchschnitt_RedTeam)\n",
    "###################### Plotten ###########################\n",
    "x = np.array([\"redAssists\", \"blueAssists\"])\n",
    "y = np.array([durchschnitt_RedTeam, durchschnitt_BlueTeam])\n",
    "plt.bar(x,y, color = [\"#f1565a\", \"#24a8df\"])\n",
    "plt.show()"
   ]
  },
  {
   "cell_type": "markdown",
   "id": "f283ac3f",
   "metadata": {},
   "source": [
    "# Percentage of games where blue team wins with first blood"
   ]
  },
  {
   "cell_type": "markdown",
   "id": "7a2c7ce5",
   "metadata": {},
   "source": [
    "'First Blood' ist ein wichtiges Feature, da es das eigene Team einen frühen Vorsprung verschafft, und in den meisten Fällen muss der getötete gegnerische Team-Champion einen Beschwörerzauber wie 'Teleportation' verschwenden, um wieder auf die Lane schneller zu gelangen und möglicherweise fehlenden 'CS' aufzuholen."
   ]
  },
  {
   "cell_type": "code",
   "execution_count": 16,
   "id": "f895936d",
   "metadata": {},
   "outputs": [
    {
     "data": {
      "image/png": "[encoded data removed]",
      "text/plain": [
       "<Figure size 432x288 with 1 Axes>"
      ]
     },
     "metadata": {
      "needs_background": "light"
     },
     "output_type": "display_data"
    }
   ],
   "source": [
    "AnzBlueTeamWins = sum(df['blueWins'] == 1) # number of blue Team wins\n",
    "P_blueGoldDiff = sum((df['blueFirstBlood'] > 0) & (df['blueWins'] == 1))  # Positive blueGoldDiff\n",
    "Pro_P_Wins = P_blueGoldDiff/AnzBlueTeamWins  # precentage of games where Blue Team wins with positive gold difference\n",
    "N_blueGoldDiff = sum((df['redFirstBlood'] > 0) & (df['blueWins'] == 1))  # Negative blueGoldDiff\n",
    "Pro_N_Wins = N_blueGoldDiff/AnzBlueTeamWins  # precentage of games where Blue Team wins with negative\n",
    "x = np.array([\"blueFirstBlood\", \"redFirstBlood\"])\n",
    "y = np.array([Pro_N_Wins, Pro_P_Wins])\n",
    "\n",
    "plt.bar(x,y, color = [\"#f1565a\", \"#24a8df\"])\n",
    "plt.show()"
   ]
  },
  {
   "cell_type": "markdown",
   "id": "b181c034",
   "metadata": {},
   "source": [
    "Wenn das eigene Team 'First Blood' bekommt, hat es statistisch gesehen eine Chance von 60 %, das Spiel zu gewinnen, 10 % mehr als die Standardchance von 50 %."
   ]
  },
  {
   "cell_type": "markdown",
   "id": "336525ce",
   "metadata": {},
   "source": [
    "# Schlussfolgerung\n",
    "Zusammenfassend lässt sich sagen, dass das Spiel gewonnen wird, wenn das eigene Team das meiste Gold hat, und sich Ihren Weg zum Sieg schleichen können. Es gibt mehrere Möglichkeiten, Gold-Leads zu erhalten, zum Beispiel: 'Erstes Blut' bekommen, 'Turmplatten' bekommen, vermeiden, dass das gegnerische Team ddie eigene 'Turmplatten' bekommt, 'CSing' und vieles mehr (auf die andere Seite der Spiel-Karte zu streifen, um die 0/5-Unterstützer (d.h. Ein Spieler mit bestimmter Rolle im Team) zu töten, ist es nicht einer von ihnen).\n",
    "\n",
    "Denken Sie als letzte Beobachtung daran, immer Spaß zu haben. Du kannst nicht jedes Spiel gewinnen, aber du kannst immer versuchen, Spaß zu haben."
   ]
  }
 ],
 "metadata": {
  "kernelspec": {
   "display_name": "Python 3 (ipykernel)",
   "language": "python",
   "name": "python3"
  },
  "language_info": {
   "codemirror_mode": {
    "name": "ipython",
    "version": 3
   },
   "file_extension": ".py",
   "mimetype": "text/x-python",
   "name": "python",
   "nbconvert_exporter": "python",
   "pygments_lexer": "ipython3",
   "version": "3.10.4 (tags/v3.10.4:9d38120, Mar 23 2022, 23:13:41) [MSC v.1929 64 bit (AMD64)]"
  },
  "vscode": {
   "interpreter": {
    "hash": "3196968d684371006099b3d55edeef8ed90365227a30deaef86e5d4aa8519be0"
   }
  }
 },
 "nbformat": 4,
 "nbformat_minor": 5
}
